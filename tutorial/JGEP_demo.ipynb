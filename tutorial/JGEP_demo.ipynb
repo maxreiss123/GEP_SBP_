{
 "cells": [
  {
   "cell_type": "markdown",
   "metadata": {
    "id": "T4OGbNk5Z7nr"
   },
   "source": [
    "# Demo: Considering an easy regression task using the JGepRegression\n",
    "# Here we start by installing the Julia kernel - this may take a few moments 😴"
   ]
  },
  {
   "cell_type": "markdown",
   "metadata": {
    "id": "XudtpijzaDL1"
   },
   "source": []
  },
  {
   "cell_type": "code",
   "execution_count": 13,
   "metadata": {
    "colab": {
     "base_uri": "https://localhost:8080/",
     "height": 87
    },
    "executionInfo": {
     "elapsed": 1094,
     "status": "ok",
     "timestamp": 1728281491020,
     "user": {
      "displayName": "Max Reissmann",
      "userId": "18348963551816227661"
     },
     "user_tz": -660
    },
    "id": "MbYd4VSkV7Nv",
    "outputId": "eb520cac-8c01-4852-be1a-4b788de1d18c",
    "vscode": {
     "languageId": "python"
    }
   },
   "outputs": [
    {
     "data": {
      "text/latex": [
       "Unrecognized magic \\texttt{\\%\\%shell}.\n",
       "\n",
       "Julia does not use the IPython \\texttt{\\%magic} syntax.   To interact with the IJulia kernel, use \\texttt{IJulia.somefunction(...)}, for example.  Julia macros, string macros, and functions can be used to accomplish most of the other functionalities of IPython magics.\n",
       "\n"
      ],
      "text/markdown": [
       "Unrecognized magic `%%shell`.\n",
       "\n",
       "Julia does not use the IPython `%magic` syntax.   To interact with the IJulia kernel, use `IJulia.somefunction(...)`, for example.  Julia macros, string macros, and functions can be used to accomplish most of the other functionalities of IPython magics.\n"
      ],
      "text/plain": [
       "  Unrecognized magic \u001b[36m%%shell\u001b[39m.\n",
       "\n",
       "  Julia does not use the IPython \u001b[36m%magic\u001b[39m syntax. To interact with the IJulia kernel, use\n",
       "  \u001b[36mIJulia.somefunction(...)\u001b[39m, for example. Julia macros, string macros, and functions can be used to\n",
       "  accomplish most of the other functionalities of IPython magics."
      ]
     },
     "metadata": {},
     "output_type": "display_data"
    }
   ],
   "source": [
    "%%shell\n",
    "set +e\n",
    "\n",
    "#---------------------------------------------------#\n",
    "JULIA_VERSION=\"1.10.5\" # any version ≥ 0.7.0\n",
    "JULIA_PACKAGES=\"IJulia BenchmarkTools CSV DataFrames Dates DynamicExpressions FileIO ForwardDiff GZip JSON LineSearches LinearAlgebra Logging Optim OrderedCollections ProgressMeter Random Serialization StaticArrays Statistics Zygote\"\n",
    "JULIA_NUM_THREADS=2\n",
    "#---------------------------------------------------#\n",
    "\n",
    "if [ -z `which julia` ]; then\n",
    "  # Install Julia\n",
    "  JULIA_VER=`cut -d '.' -f -2 <<< \"$JULIA_VERSION\"`\n",
    "  echo \"Installing Julia $JULIA_VERSION on the current Colab Runtime...\"\n",
    "  BASE_URL=\"https://julialang-s3.julialang.org/bin/linux/x64\"\n",
    "  URL=\"$BASE_URL/$JULIA_VER/julia-$JULIA_VERSION-linux-x86_64.tar.gz\"\n",
    "  if ! wget -nv $URL -O /tmp/julia.tar.gz; then\n",
    "    echo \"Failed to download Julia. Check the URL and your internet connection.\"\n",
    "    exit 1\n",
    "  fi\n",
    "\n",
    "  if ! tar -x -f /tmp/julia.tar.gz -C /usr/local --strip-components 1; then\n",
    "    echo \"Failed to extract Julia archive. Check if you have sufficient permissions.\"\n",
    "    exit 1\n",
    "  fi\n",
    "\n",
    "  rm /tmp/julia.tar.gz\n",
    "\n",
    "  # Install packages\n",
    "  echo \"Installing packages...\"\n",
    "  if ! julia -e \"using Pkg; Pkg.add([$(echo $JULIA_PACKAGES | sed \"s/ /\\\", \\\"/g\" | sed \"s/^/\\\"/; s/$/\\\"/\")]); Pkg.precompile()\"; then\n",
    "    echo \"Failed to install some packages. Please check the output for details.\"\n",
    "  fi\n",
    "\n",
    "  # Install kernel and rename it to \"julia\"\n",
    "  echo \"Installing IJulia kernel...\"\n",
    "  if ! julia -e 'using Pkg; Pkg.add(\"IJulia\"); using IJulia; IJulia.installkernel(\"julia\", env=Dict(\"JULIA_NUM_THREADS\"=>\"'\"$JULIA_NUM_THREADS\"'\"))'; then\n",
    "    echo \"Failed to install IJulia kernel. Check your internet connection and try again.\"\n",
    "    exit 1\n",
    "  fi\n",
    "\n",
    "  KERNEL_DIR=`julia -e \"using IJulia; print(IJulia.kerneldir())\"`\n",
    "  KERNEL_NAME=`ls -d \"$KERNEL_DIR\"/julia*`\n",
    "  if ! mv -f $KERNEL_NAME \"$KERNEL_DIR\"/julia; then\n",
    "    echo \"Failed to rename kernel. Check if you have sufficient permissions.\"\n",
    "    exit 1\n",
    "  fi\n",
    "\n",
    "  echo ''\n",
    "  echo \"Successfully installed Julia $JULIA_VERSION with the specified packages!\"\n",
    "  echo \"Please reload this page (press Ctrl+R, ⌘+R, or the F5 key) then\"\n",
    "  echo \"select 'Julia' from the kernel dropdown menu to start using Julia.\"\n",
    "else\n",
    "  echo \"Julia is already installed. Version: `julia -v`\"\n",
    "  echo \"Updating packages...\"\n",
    "  if ! julia -e \"using Pkg; Pkg.add([$(echo $JULIA_PACKAGES | sed \"s/ /\\\", \\\"/g\" | sed \"s/^/\\\"/; s/$/\\\"/\")]); Pkg.update(); Pkg.precompile()\"; then\n",
    "    echo \"Failed to update some packages. Please check the output for details.\"\n",
    "  fi\n",
    "fi"
   ]
  },
  {
   "cell_type": "markdown",
   "metadata": {
    "id": "97CtwiD6aaDT"
   },
   "source": [
    "## After that, go to the right corner (small threefold pointing downwards) and change the runtime type to the julia kernel\n",
    "\n",
    "## In the nextline we just make sure that we have installed it"
   ]
  },
  {
   "cell_type": "code",
   "execution_count": 1,
   "metadata": {
    "colab": {
     "base_uri": "https://localhost:8080/"
    },
    "executionInfo": {
     "elapsed": 2462,
     "status": "ok",
     "timestamp": 1728281291097,
     "user": {
      "displayName": "Max Reissmann",
      "userId": "18348963551816227661"
     },
     "user_tz": -660
    },
    "id": "JFopKmJlYKMu",
    "outputId": "0086e818-1779-435d-a238-fbd101e86706",
    "vscode": {
     "languageId": "python"
    }
   },
   "outputs": [
    {
     "name": "stdout",
     "output_type": "stream",
     "text": [
      "Julia Version 1.10.5\n",
      "Commit 6f3fdf7b362 (2024-08-27 14:19 UTC)\n",
      "Build Info:\n",
      "  Official https://julialang.org/ release\n",
      "Platform Info:\n",
      "  OS: Linux (x86_64-linux-gnu)\n",
      "  CPU: 2 × Intel(R) Xeon(R) CPU @ 2.20GHz\n",
      "  WORD_SIZE: 64\n",
      "  LIBM: libopenlibm\n",
      "  LLVM: libLLVM-15.0.7 (ORCJIT, broadwell)\n",
      "Threads: 2 default, 0 interactive, 1 GC (on 2 virtual cores)\n",
      "Environment:\n",
      "  LD_LIBRARY_PATH = /usr/local/nvidia/lib:/usr/local/nvidia/lib64\n",
      "  JULIA_NUM_THREADS = 2\n"
     ]
    }
   ],
   "source": [
    "versioninfo()"
   ]
  },
  {
   "cell_type": "code",
   "execution_count": 2,
   "metadata": {
    "colab": {
     "base_uri": "https://localhost:8080/"
    },
    "executionInfo": {
     "elapsed": 29332,
     "status": "ok",
     "timestamp": 1728281320427,
     "user": {
      "displayName": "Max Reissmann",
      "userId": "18348963551816227661"
     },
     "user_tz": -660
    },
    "id": "Ftv_eCIAYNgq",
    "outputId": "481c1eb8-f067-4c92-ed35-4f8453138b9a",
    "vscode": {
     "languageId": "python"
    }
   },
   "outputs": [
    {
     "name": "stderr",
     "output_type": "stream",
     "text": [
      "\u001b[32m\u001b[1m     Cloning\u001b[22m\u001b[39m git-repo `https://github.com/maxreiss123/GEP_SBP_.git`\n",
      "\u001b[32m\u001b[1m    Updating\u001b[22m\u001b[39m git-repo `https://github.com/maxreiss123/GEP_SBP_.git`\n",
      "\u001b[32m\u001b[1m    Updating\u001b[22m\u001b[39m registry at `~/.julia/registries/General.toml`\n",
      "\u001b[32m\u001b[1m   Resolving\u001b[22m\u001b[39m package versions...\n",
      "\u001b[32m\u001b[1m    Updating\u001b[22m\u001b[39m `~/.julia/environments/v1.10/Project.toml`\n",
      "  \u001b[90m[2f0a5bb0] \u001b[39m\u001b[92m+ JGep v0.1.0 `https://github.com/maxreiss123/GEP_SBP_.git#master`\u001b[39m\n",
      "\u001b[32m\u001b[1m    Updating\u001b[22m\u001b[39m `~/.julia/environments/v1.10/Manifest.toml`\n",
      "  \u001b[90m[2f0a5bb0] \u001b[39m\u001b[92m+ JGep v0.1.0 `https://github.com/maxreiss123/GEP_SBP_.git#master`\u001b[39m\n",
      "\u001b[32m\u001b[1mPrecompiling\u001b[22m\u001b[39m project...\n",
      "\u001b[32m  ✓ \u001b[39mJGep\n",
      "  1 dependency successfully precompiled in 7 seconds. 130 already precompiled.\n"
     ]
    }
   ],
   "source": [
    "# We install the package: - takes another minute :(\n",
    "using Pkg\n",
    "Pkg.add(url=\"https://github.com/maxreiss123/GEP_SBP_.git\")"
   ]
  },
  {
   "cell_type": "code",
   "execution_count": 3,
   "metadata": {
    "colab": {
     "base_uri": "https://localhost:8080/"
    },
    "executionInfo": {
     "elapsed": 3071,
     "status": "ok",
     "timestamp": 1728281390542,
     "user": {
      "displayName": "Max Reissmann",
      "userId": "18348963551816227661"
     },
     "user_tz": -660
    },
    "id": "sCWJL3G9bUuD",
    "outputId": "7da72dc7-abcc-4ab9-ec3d-32e909a0c7db",
    "vscode": {
     "languageId": "python"
    }
   },
   "outputs": [
    {
     "data": {
      "text/plain": [
       "TaskLocalRNG()"
      ]
     },
     "execution_count": 3,
     "metadata": {},
     "output_type": "execute_result"
    }
   ],
   "source": [
    "#Then we import everthing we need - add further libs if you would like to plot the result\n",
    "using VGeneExpressionProgramming\n",
    "using DynamicExpressions\n",
    "using OrderedCollections\n",
    "using Random\n",
    "\n",
    "#If we want to reproduce our results\n",
    "Random.seed!(1)"
   ]
  },
  {
   "cell_type": "code",
   "execution_count": 4,
   "metadata": {
    "colab": {
     "base_uri": "https://localhost:8080/"
    },
    "executionInfo": {
     "elapsed": 1232,
     "status": "ok",
     "timestamp": 1728281394629,
     "user": {
      "displayName": "Max Reissmann",
      "userId": "18348963551816227661"
     },
     "user_tz": -660
    },
    "id": "UndXHDmFb3-H",
    "outputId": "ce7f412c-1251-4766-d9ee-01470b27897b",
    "vscode": {
     "languageId": "python"
    }
   },
   "outputs": [
    {
     "data": {
      "text/plain": [
       "OrderedDict{Int8, Int8} with 9 entries:\n",
       "  1 => 2\n",
       "  2 => 2\n",
       "  3 => 2\n",
       "  4 => 2\n",
       "  5 => 1\n",
       "  6 => 0\n",
       "  7 => 0\n",
       "  8 => 0\n",
       "  9 => 0"
      ]
     },
     "execution_count": 4,
     "metadata": {},
     "output_type": "execute_result"
    }
   ],
   "source": [
    "#Create the utilized symbols: to make the algorithm fast in the backend, we fully tokenize the symbols to Int8 and assign an arity, meaning how many inputs a symbol can have\n",
    "#The number of the symbols can be chosen arbitrarily, but should match there corresponding representation later on\n",
    "\n",
    "#Here we use:\n",
    "#1:=+   which takes 2 arguments\n",
    "#2:=*   which takes 2 arguments\n",
    "#3:=/   which takes 2 arguments\n",
    "#4:=/   which takes 2 arguments\n",
    "#5:=exp which takes 2 arguments\n",
    "#\n",
    "#6 x1   terminal takes 0 arguments\n",
    "#7 x2   terminal takes 0 arguments\n",
    "#8 2    terminal takes 0 arguments\n",
    "#9 0    terminal takes 0 arguments\n",
    "\n",
    "utilized_syms = OrderedDict{Int8,Int8}(1 => 2, 2 => 2, 3 => 2, 4 => 2, 5 => 1,6 => 0, 7 => 0, 8 => 0, 9 => 0)"
   ]
  },
  {
   "cell_type": "code",
   "execution_count": 5,
   "metadata": {
    "colab": {
     "base_uri": "https://localhost:8080/"
    },
    "executionInfo": {
     "elapsed": 1206,
     "status": "ok",
     "timestamp": 1728281399100,
     "user": {
      "displayName": "Max Reissmann",
      "userId": "18348963551816227661"
     },
     "user_tz": -660
    },
    "id": "8ILXrDIVfhYr",
    "outputId": "26e07d73-14bb-4982-92d1-0736812de739",
    "vscode": {
     "languageId": "python"
    }
   },
   "outputs": [
    {
     "data": {
      "text/plain": [
       "2-element Vector{Int8}:\n",
       " 1\n",
       " 2"
      ]
     },
     "execution_count": 5,
     "metadata": {},
     "output_type": "execute_result"
    }
   ],
   "source": [
    "#Here we create a vector of symbols serving as the connection between the genes (+,*)\n",
    "connection_syms = Int8[1, 2]"
   ]
  },
  {
   "cell_type": "code",
   "execution_count": 6,
   "metadata": {
    "colab": {
     "base_uri": "https://localhost:8080/"
    },
    "executionInfo": {
     "elapsed": 2037,
     "status": "ok",
     "timestamp": 1728281403420,
     "user": {
      "displayName": "Max Reissmann",
      "userId": "18348963551816227661"
     },
     "user_tz": -660
    },
    "id": "eh9_ESZEftH9",
    "outputId": "da0ddcc2-6b29-4f4d-97bb-53f7e6da0b85",
    "vscode": {
     "languageId": "python"
    }
   },
   "outputs": [
    {
     "data": {
      "text/plain": [
       "OrderedDict{Int8, Any} with 4 entries:\n",
       "  6 => x1\n",
       "  7 => x2\n",
       "  8 => 2\n",
       "  9 => 0"
      ]
     },
     "execution_count": 6,
     "metadata": {},
     "output_type": "execute_result"
    }
   ],
   "source": [
    "#Here, we need to create a mapping between our tokenisation and the symbols utilized for DynamicExpression.jl\n",
    "#Mapping should corespond to the former defined symbols\n",
    "\n",
    "\n",
    "operators =  OperatorEnum(; binary_operators=[+, -, *, /], unary_operators=[exp])\n",
    "\n",
    "callbacks = Dict{Int8,Function}(\n",
    "        3 => (-),\n",
    "        4 => (/),\n",
    "        2 => (*),\n",
    "        1 => (+),\n",
    "        5 => (exp)\n",
    ")\n",
    "nodes = OrderedDict{Int8,Any}(\n",
    "    6 => Node{Float64}(feature=1),\n",
    "    7 => Node{Float64}(feature=2),\n",
    "    8 => 2,\n",
    "    9 => 0\n",
    ")\n"
   ]
  },
  {
   "cell_type": "code",
   "execution_count": 7,
   "metadata": {
    "colab": {
     "base_uri": "https://localhost:8080/"
    },
    "executionInfo": {
     "elapsed": 2584,
     "status": "ok",
     "timestamp": 1728281408428,
     "user": {
      "displayName": "Max Reissmann",
      "userId": "18348963551816227661"
     },
     "user_tz": -660
    },
    "id": "tei7VVLjgdHE",
    "outputId": "2c6cdab6-5182-4963-ff2e-d3c4db31ba8c",
    "vscode": {
     "languageId": "python"
    }
   },
   "outputs": [
    {
     "data": {
      "text/plain": [
       "Dict{String, AbstractFloat} with 11 entries:\n",
       "  \"mutation_rate\"             => 0.05\n",
       "  \"dominant_fusion_prob\"      => 0.1\n",
       "  \"inversion_prob\"            => 0.1\n",
       "  \"dominant_fusion_rate\"      => 0.2\n",
       "  \"one_point_cross_over_prob\" => 0.6\n",
       "  \"mutation_prob\"             => 1.0\n",
       "  \"rezessiv_fusion_rate\"      => 0.2\n",
       "  \"fusion_rate\"               => 0.0\n",
       "  \"rezessiv_fusion_prob\"      => 0.1\n",
       "  \"fusion_prob\"               => 0.0\n",
       "  \"two_point_cross_over_prob\" => 0.5"
      ]
     },
     "execution_count": 7,
     "metadata": {},
     "output_type": "execute_result"
    }
   ],
   "source": [
    "#Here we define some hyperparameters for our method\n",
    "\n",
    "\n",
    "gep_params = Dict{String, AbstractFloat}(\n",
    "    \"one_point_cross_over_prob\" => 0.6,\n",
    "    \"two_point_cross_over_prob\" => 0.5,\n",
    "    \"mutation_prob\" => 1,\n",
    "    \"mutation_rate\" => 0.05,\n",
    "    \"dominant_fusion_prob\" => 0.1,\n",
    "    \"dominant_fusion_rate\" => 0.2,\n",
    "    \"rezessiv_fusion_prob\" => 0.1,\n",
    "    \"rezessiv_fusion_rate\" => 0.2,\n",
    "    \"fusion_prob\" => 0.0,\n",
    "    \"fusion_rate\" => 0.0,\n",
    "    \"inversion_prob\" => 0.1\n",
    ")"
   ]
  },
  {
   "cell_type": "markdown",
   "metadata": {
    "id": "uhB9LsOzgmMb"
   },
   "source": [
    "## We now define the data according to a function:\n",
    "\n",
    "$$\n",
    "y = x_1^2 + 0.5 x_1x_2-2x_2^2\n",
    "$$"
   ]
  },
  {
   "cell_type": "code",
   "execution_count": 9,
   "metadata": {
    "executionInfo": {
     "elapsed": 320,
     "status": "ok",
     "timestamp": 1728281428432,
     "user": {
      "displayName": "Max Reissmann",
      "userId": "18348963551816227661"
     },
     "user_tz": -660
    },
    "id": "_Yh3R71WglnI",
    "vscode": {
     "languageId": "python"
    }
   },
   "outputs": [],
   "source": [
    "#Generate some data\n",
    "x_data = randn(Float64, 2, 1000);\n",
    "y_data = @. x_data[1,:] * x_data[1,:] + x_data[1,:] * x_data[2,:] - 2 * x_data[2,:] * x_data[2,:];"
   ]
  },
  {
   "cell_type": "code",
   "execution_count": 10,
   "metadata": {
    "colab": {
     "base_uri": "https://localhost:8080/"
    },
    "executionInfo": {
     "elapsed": 658,
     "status": "ok",
     "timestamp": 1728281433278,
     "user": {
      "displayName": "Max Reissmann",
      "userId": "18348963551816227661"
     },
     "user_tz": -660
    },
    "id": "w5PoP0Exg8sm",
    "outputId": "8d3b4e54-b4a0-4462-ca35-800be43f3caf",
    "vscode": {
     "languageId": "python"
    }
   },
   "outputs": [
    {
     "data": {
      "text/plain": [
       "5"
      ]
     },
     "execution_count": 10,
     "metadata": {},
     "output_type": "execute_result"
    }
   ],
   "source": [
    "#Setting number of individuals\n",
    "individuals = 1000\n",
    "\n",
    "#Setting number of epochs\n",
    "epochs = 1000\n",
    "\n",
    "#Setting gene count\n",
    "gene_count = 3\n",
    "\n",
    "#Setting head len\n",
    "head_len = 5;\n"
   ]
  },
  {
   "cell_type": "code",
   "execution_count": 11,
   "metadata": {
    "colab": {
     "base_uri": "https://localhost:8080/"
    },
    "executionInfo": {
     "elapsed": 12937,
     "status": "ok",
     "timestamp": 1728281455706,
     "user": {
      "displayName": "Max Reissmann",
      "userId": "18348963551816227661"
     },
     "user_tz": -660
    },
    "id": "qm8h5e_7g6x6",
    "outputId": "c2a35970-fad2-4552-c92c-25bb32995157",
    "vscode": {
     "languageId": "python"
    }
   },
   "outputs": [
    {
     "name": "stderr",
     "output_type": "stream",
     "text": [
      "\u001b[32mProgress: 100%|█████████████████████████████████████████████████████████████| Time: 0:00:05\u001b[39m\n"
     ]
    }
   ],
   "source": [
    "#running the algorithm by using an Mean-squared error\n",
    "#employing conjugate gradient for the coefficients\n",
    "#Setting Hall of fame to 1, which means we obtain a list with one element containing the best\n",
    "\n",
    "best,history=runGep(individuals, epochs,head_len,gene_count,\n",
    "            utilized_syms,operators, callbacks, nodes, x_data,y_data, connection_syms, gep_params;\n",
    "    loss_fun_str=\"mse\", opt_method_const=:cg, hof=1);"
   ]
  },
  {
   "cell_type": "code",
   "execution_count": 12,
   "metadata": {
    "colab": {
     "base_uri": "https://localhost:8080/"
    },
    "executionInfo": {
     "elapsed": 659,
     "status": "ok",
     "timestamp": 1728281472399,
     "user": {
      "displayName": "Max Reissmann",
      "userId": "18348963551816227661"
     },
     "user_tz": -660
    },
    "id": "bfegYoZvZm34",
    "outputId": "c159bdda-d8e2-40e6-da41-ca2cf5c1d8c6",
    "vscode": {
     "languageId": "python"
    }
   },
   "outputs": [
    {
     "name": "stdout",
     "output_type": "stream",
     "text": [
      "string((best[1]).fitness) = \"1.5016484907627395e-31\"\n",
      "string((best[1]).compiled_function) = \"(((x1 + ((0.0 - x2) - x2)) + 0.0) * x2) + (x1 * (0.0 + x1))\"\n"
     ]
    },
    {
     "data": {
      "text/plain": [
       "\"(((x1 + ((0.0 - x2) - x2)) + 0.0) * x2) + (x1 * (0.0 + x1))\""
      ]
     },
     "execution_count": 12,
     "metadata": {},
     "output_type": "execute_result"
    }
   ],
   "source": [
    "#Showing the fitness and the function\n",
    "@show string(best[1].fitness)\n",
    "@show string(best[1].compiled_function)"
   ]
  },
  {
   "cell_type": "code",
   "execution_count": 10,
   "metadata": {
    "colab": {
     "base_uri": "https://localhost:8080/"
    },
    "executionInfo": {
     "elapsed": 343,
     "status": "ok",
     "timestamp": 1728280299389,
     "user": {
      "displayName": "Max Reissmann",
      "userId": "18348963551816227661"
     },
     "user_tz": -660
    },
    "id": "bdW0q8WwiF0X",
    "outputId": "79818d64-0866-4f01-a43d-95e50508ec23",
    "vscode": {
     "languageId": "python"
    }
   },
   "outputs": [
    {
     "name": "stdout",
     "output_type": "stream",
     "text": [
      "\u001b[32m\u001b[1mStatus\u001b[22m\u001b[39m `~/.julia/environments/v1.10/Project.toml`\n",
      "  \u001b[90m[7073ff75] \u001b[39mIJulia v1.25.0\n",
      "  \u001b[90m[2f0a5bb0] \u001b[39mJGep v0.1.0 `https://github.com/maxreiss123/GEP_SBP_.git#master`\n"
     ]
    }
   ],
   "source": []
  },
  {
   "cell_type": "code",
   "execution_count": 11,
   "metadata": {
    "colab": {
     "base_uri": "https://localhost:8080/",
     "height": 315
    },
    "executionInfo": {
     "elapsed": 362,
     "status": "error",
     "timestamp": 1728280610525,
     "user": {
      "displayName": "Max Reissmann",
      "userId": "18348963551816227661"
     },
     "user_tz": -660
    },
    "id": "b2drWwGniIL8",
    "outputId": "55c1811c-adc4-41e7-f86c-4dee609e7af2",
    "vscode": {
     "languageId": "python"
    }
   },
   "outputs": [
    {
     "ename": "LoadError",
     "evalue": "ArgumentError: Package BenchmarkTools not found in current path.\n- Run `import Pkg; Pkg.add(\"BenchmarkTools\")` to install the BenchmarkTools package.",
     "output_type": "error",
     "traceback": [
      "ArgumentError: Package BenchmarkTools not found in current path.\n- Run `import Pkg; Pkg.add(\"BenchmarkTools\")` to install the BenchmarkTools package.",
      "",
      "Stacktrace:",
      " [1] macro expansion",
      "   @ ./loading.jl:1772 [inlined]",
      " [2] macro expansion",
      "   @ ./lock.jl:267 [inlined]",
      " [3] __require(into::Module, mod::Symbol)",
      "   @ Base ./loading.jl:1753",
      " [4] #invoke_in_world#3",
      "   @ ./essentials.jl:926 [inlined]",
      " [5] invoke_in_world",
      "   @ ./essentials.jl:923 [inlined]",
      " [6] require(into::Module, mod::Symbol)",
      "   @ Base ./loading.jl:1746"
     ]
    }
   ],
   "source": []
  },
  {
   "cell_type": "code",
   "execution_count": null,
   "metadata": {
    "id": "fprwJXMDjUEz",
    "vscode": {
     "languageId": "python"
    }
   },
   "outputs": [],
   "source": []
  }
 ],
 "metadata": {
  "colab": {
   "authorship_tag": "ABX9TyNeSIyC8h8HTq+tCGj2n83Y",
   "provenance": []
  },
  "kernelspec": {
   "display_name": "julia 1.10.5",
   "name": "julia"
  },
  "language_info": {
   "name": ""
  }
 },
 "nbformat": 4,
 "nbformat_minor": 4
}
